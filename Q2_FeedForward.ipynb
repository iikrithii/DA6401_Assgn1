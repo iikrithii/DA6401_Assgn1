{
 "cells": [
  {
   "cell_type": "code",
   "execution_count": 1,
   "metadata": {},
   "outputs": [],
   "source": [
    "from keras.datasets import fashion_mnist\n",
    "import matplotlib.pyplot as plt \n",
    "import numpy as np\n",
    "import wandb\n",
    "from src.model import NeuralNetwork\n",
    "from src.utils import one_hot_encode"
   ]
  },
  {
   "cell_type": "code",
   "execution_count": 2,
   "metadata": {},
   "outputs": [],
   "source": [
    "(X_train, y_train), (X_test, y_test) = fashion_mnist.load_data()"
   ]
  },
  {
   "cell_type": "code",
   "execution_count": 3,
   "metadata": {},
   "outputs": [],
   "source": [
    "X_train = X_train.reshape(X_train.shape[0], -1) / 255.0\n",
    "X_test = X_test.reshape(X_test.shape[0], -1) / 255.0\n",
    "# Split training data: 90% train, 10% validation\n",
    "split_index = int(0.9 * X_train.shape[0])\n",
    "X_val = X_train[split_index:]\n",
    "y_val = y_train[split_index:]\n",
    "X_train = X_train[:split_index]\n",
    "y_train = y_train[:split_index]\n",
    "# One-hot encode labels\n",
    "num_classes = 10\n",
    "y_train_encoded = one_hot_encode(y_train, num_classes)\n",
    "y_val_encoded = one_hot_encode(y_val, num_classes)\n",
    "y_test_encoded = one_hot_encode(y_test, num_classes)"
   ]
  },
  {
   "cell_type": "code",
   "execution_count": 4,
   "metadata": {},
   "outputs": [],
   "source": [
    "model = NeuralNetwork(\n",
    "    input_size=784,\n",
    "    hidden_size=64, \n",
    "    num_layers=3, \n",
    "    output_size=10,\n",
    "    activation=\"ReLU\",\n",
    "    weight_init=\"Xavier\",\n",
    "    loss_type=\"cross_entropy\"\n",
    ")\n"
   ]
  },
  {
   "cell_type": "code",
   "execution_count": 5,
   "metadata": {},
   "outputs": [
    {
     "name": "stderr",
     "output_type": "stream",
     "text": [
      "\u001b[34m\u001b[1mwandb\u001b[0m: Using wandb-core as the SDK backend.  Please refer to https://wandb.me/wandb-core for more information.\n",
      "\u001b[34m\u001b[1mwandb\u001b[0m: Currently logged in as: \u001b[33mns25z040\u001b[0m (\u001b[33mns25z040-indian-institute-of-technology-madras\u001b[0m) to \u001b[32mhttps://api.wandb.ai\u001b[0m. Use \u001b[1m`wandb login --relogin`\u001b[0m to force relogin\n"
     ]
    },
    {
     "data": {
      "text/html": [
       "Tracking run with wandb version 0.19.7"
      ],
      "text/plain": [
       "<IPython.core.display.HTML object>"
      ]
     },
     "metadata": {},
     "output_type": "display_data"
    },
    {
     "data": {
      "text/html": [
       "Run data is saved locally in <code>c:\\Users\\skrit\\Documents\\IntroDL\\Assgn1\\wandb\\run-20250304_233420-jnvivjwj</code>"
      ],
      "text/plain": [
       "<IPython.core.display.HTML object>"
      ]
     },
     "metadata": {},
     "output_type": "display_data"
    },
    {
     "data": {
      "text/html": [
       "Syncing run <strong><a href='https://wandb.ai/ns25z040-indian-institute-of-technology-madras/DA6401_Assignment1/runs/jnvivjwj' target=\"_blank\">Q2_FeedForward</a></strong> to <a href='https://wandb.ai/ns25z040-indian-institute-of-technology-madras/DA6401_Assignment1' target=\"_blank\">Weights & Biases</a> (<a href='https://wandb.me/developer-guide' target=\"_blank\">docs</a>)<br>"
      ],
      "text/plain": [
       "<IPython.core.display.HTML object>"
      ]
     },
     "metadata": {},
     "output_type": "display_data"
    },
    {
     "data": {
      "text/html": [
       " View project at <a href='https://wandb.ai/ns25z040-indian-institute-of-technology-madras/DA6401_Assignment1' target=\"_blank\">https://wandb.ai/ns25z040-indian-institute-of-technology-madras/DA6401_Assignment1</a>"
      ],
      "text/plain": [
       "<IPython.core.display.HTML object>"
      ]
     },
     "metadata": {},
     "output_type": "display_data"
    },
    {
     "data": {
      "text/html": [
       " View run at <a href='https://wandb.ai/ns25z040-indian-institute-of-technology-madras/DA6401_Assignment1/runs/jnvivjwj' target=\"_blank\">https://wandb.ai/ns25z040-indian-institute-of-technology-madras/DA6401_Assignment1/runs/jnvivjwj</a>"
      ],
      "text/plain": [
       "<IPython.core.display.HTML object>"
      ]
     },
     "metadata": {},
     "output_type": "display_data"
    }
   ],
   "source": [
    "\n",
    "sample_images = X_test[:5]\n",
    "sample_labels=y_test[:5]\n",
    "probabilities = model.forward(sample_images) \n",
    "\n",
    "wandb.init(project=\"DA6401_Assignment1\", entity=\"ns25z040-indian-institute-of-technology-madras\", name=\"Q2_FeedForward\")\n",
    "# Log probabilities in wandb\n",
    "for i, (prob, true_label) in enumerate(zip(probabilities, y_test[:5])):\n",
    "    plt.figure()\n",
    "    # Create bar plot for probability distribution\n",
    "    bars = plt.bar(range(10), prob)\n",
    "    plt.title(f\"Sample {i+1} - True Label: {true_label}\")\n",
    "    plt.xlabel(\"Class\")\n",
    "    plt.ylabel(\"Probability\")\n",
    "\n",
    "    # Annotate each bar with its probability value\n",
    "    for idx, bar in enumerate(bars):\n",
    "        height = bar.get_height()\n",
    "        plt.text(bar.get_x() + bar.get_width() / 2, height, f\"{prob[idx]:.2f}\", \n",
    "                 ha=\"center\", va=\"bottom\", fontsize=8)\n",
    "\n",
    "    # Save the plot as a Wandb image and log it together with the probability list and true label\n",
    "    wandb.log({\n",
    "        f\"sample_{i+1}\": {\n",
    "            \"plot\": wandb.Image(plt, caption=f\"Probabilities for sample {i+1}\")\n",
    "        }\n",
    "    })\n",
    "    plt.close()"
   ]
  }
 ],
 "metadata": {
  "kernelspec": {
   "display_name": "medllm",
   "language": "python",
   "name": "python3"
  },
  "language_info": {
   "codemirror_mode": {
    "name": "ipython",
    "version": 3
   },
   "file_extension": ".py",
   "mimetype": "text/x-python",
   "name": "python",
   "nbconvert_exporter": "python",
   "pygments_lexer": "ipython3",
   "version": "3.12.5"
  }
 },
 "nbformat": 4,
 "nbformat_minor": 2
}
